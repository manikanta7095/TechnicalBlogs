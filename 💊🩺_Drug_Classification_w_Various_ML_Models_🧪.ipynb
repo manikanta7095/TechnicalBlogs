{
  "metadata": {
    "kernelspec": {
      "language": "python",
      "display_name": "Python 3",
      "name": "python3"
    },
    "language_info": {
      "pygments_lexer": "ipython3",
      "nbconvert_exporter": "python",
      "version": "3.6.4",
      "file_extension": ".py",
      "codemirror_mode": {
        "name": "ipython",
        "version": 3
      },
      "name": "python",
      "mimetype": "text/x-python"
    },
    "colab": {
      "name": "💊🩺 Drug Classification w/ Various ML Models 🧪",
      "provenance": [],
      "include_colab_link": true
    }
  },
  "nbformat_minor": 0,
  "nbformat": 4,
  "cells": [
    {
      "cell_type": "markdown",
      "metadata": {
        "id": "view-in-github",
        "colab_type": "text"
      },
      "source": [
        "<a href=\"https://colab.research.google.com/github/manikanta7095/TechnicalBlogs/blob/main/%F0%9F%92%8A%F0%9F%A9%BA_Drug_Classification_w_Various_ML_Models_%F0%9F%A7%AA.ipynb\" target=\"_parent\"><img src=\"https://colab.research.google.com/assets/colab-badge.svg\" alt=\"Open In Colab\"/></a>"
      ]
    },
    {
      "source": [
        "\n",
        "# IMPORTANT: RUN THIS CELL IN ORDER TO IMPORT YOUR KAGGLE DATA SOURCES\n",
        "# TO THE CORRECT LOCATION (/kaggle/input) IN YOUR NOTEBOOK,\n",
        "# THEN FEEL FREE TO DELETE THIS CELL.\n",
        "# NOTE: THIS NOTEBOOK ENVIRONMENT DIFFERS FROM KAGGLE'S PYTHON\n",
        "# ENVIRONMENT SO THERE MAY BE MISSING LIBRARIES USED BY YOUR\n",
        "# NOTEBOOK.\n",
        "\n",
        "import os\n",
        "import sys\n",
        "from tempfile import NamedTemporaryFile\n",
        "from urllib.request import urlopen\n",
        "from urllib.parse import unquote, urlparse\n",
        "from urllib.error import HTTPError\n",
        "from zipfile import ZipFile\n",
        "import tarfile\n",
        "import shutil\n",
        "\n",
        "CHUNK_SIZE = 40960\n",
        "DATA_SOURCE_MAPPING = 'drugsets:https%3A%2F%2Fstorage.googleapis.com%2Fkaggle-data-sets%2F34977%2F47148%2Fbundle%2Farchive.zip%3FX-Goog-Algorithm%3DGOOG4-RSA-SHA256%26X-Goog-Credential%3Dgcp-kaggle-com%2540kaggle-161607.iam.gserviceaccount.com%252F20240222%252Fauto%252Fstorage%252Fgoog4_request%26X-Goog-Date%3D20240222T141248Z%26X-Goog-Expires%3D259200%26X-Goog-SignedHeaders%3Dhost%26X-Goog-Signature%3D9ca87b7daeb935e42b15f7b578277d4bcc95451a75393c947612a272909540d3ebf0d162381d666df5fadaf3f0a58debacad74694abb0635840f2c883a5836b435ea8186d7b6a9e2d7af604d669cf2e56e5aa65e96c1c48200fb7a7b89884646df501d7996eb5b453159a0bcf6050eb68bf041f7e5bc49eb974450d896684aba9706649b150818a9c4e8d2f45e4eef9ebe7fb0afcb723bfba936d77ed696de4d52446f00af0c43030b593399b932ace04a2fb957a31e3ecee054d1a7f2cff4b6de687058c11ac20f74a2a43b7e955dc81a5873ba10bce3916da64b6a69390b062b525f1e02a0d2250cd59df0722d9ea212d31a4946afa19ce6eec82b16586bc4,drug200:https%3A%2F%2Fstorage.googleapis.com%2Fkaggle-data-sets%2F687630%2F1205660%2Fbundle%2Farchive.zip%3FX-Goog-Algorithm%3DGOOG4-RSA-SHA256%26X-Goog-Credential%3Dgcp-kaggle-com%2540kaggle-161607.iam.gserviceaccount.com%252F20240222%252Fauto%252Fstorage%252Fgoog4_request%26X-Goog-Date%3D20240222T141248Z%26X-Goog-Expires%3D259200%26X-Goog-SignedHeaders%3Dhost%26X-Goog-Signature%3D4a8b0ed885de70312bfa5b186737986560dd4d65e267c61c13869c2e3cb5113ac9437150869a86243163e3b8144c190dba0e2fdcf0e674639a1f72c5b74445882568a1b89363367ed27c1ecab529e0f6c17642028e424469a2aa1201eea8e0345fc7028832b0d20bd467d3dd171affaceea35d3c8384c4b010539f24c2029f9f6bee70476be3c8aa231504a995f68ad1b54cfc686fb6386ad85c9b1b6afcb07e1528eed744397d7fa52cc64893dbde9d1cee20b51074301b375908dc45bc0c5e90e052b51e8e473888d3d337557d0b0ec0939d0d82379679d46cf16b6c31c21add7137074a338514d7a6203d8f90028ac8af89227e24bb7a246a50dbad885780,drug200csv:https%3A%2F%2Fstorage.googleapis.com%2Fkaggle-data-sets%2F762154%2F1315301%2Fbundle%2Farchive.zip%3FX-Goog-Algorithm%3DGOOG4-RSA-SHA256%26X-Goog-Credential%3Dgcp-kaggle-com%2540kaggle-161607.iam.gserviceaccount.com%252F20240222%252Fauto%252Fstorage%252Fgoog4_request%26X-Goog-Date%3D20240222T141248Z%26X-Goog-Expires%3D259200%26X-Goog-SignedHeaders%3Dhost%26X-Goog-Signature%3D669b1819bbd7962f2640d15f162c6ee826942a54a10d63f2c0c1f7ec17cb9da0d4729556086ae5904002456c7de9c1fefa942f2ff686ba3e9798dc882274cb6fa94f01462ae88d0e19d9cfa7bf26fa3d4fe48459654b84d7058db24bfcacfa2f40d37478fb375da858d2a876f409b48997bf85f290aeb1082ea588f17146609d4cff5a08e073fc733e0efce20c21a45a96b15259f283e94746e426bfe12a04b8ba3f380d90f92455dbd2312348d3cc04d77a6bc2b8fb3e5f1ed63cd14b291f8f62005ec680e4ceebe1347d5548edf2cc0928b7dccf35a355d19875cdb28bcede11677aa6f97829deac4be12326f7899eed5f91b344050e5e77d03573e18f9cff,drug-classification:https%3A%2F%2Fstorage.googleapis.com%2Fkaggle-data-sets%2F830916%2F1419436%2Fbundle%2Farchive.zip%3FX-Goog-Algorithm%3DGOOG4-RSA-SHA256%26X-Goog-Credential%3Dgcp-kaggle-com%2540kaggle-161607.iam.gserviceaccount.com%252F20240222%252Fauto%252Fstorage%252Fgoog4_request%26X-Goog-Date%3D20240222T141248Z%26X-Goog-Expires%3D259200%26X-Goog-SignedHeaders%3Dhost%26X-Goog-Signature%3D3f096f59636b13842e48338b19957414fb3a328411610709550391831c0ba83334d9338d9adc453e9686e29729696a45401399625a780e3b9769b39adb6fd8b81f7abf1001dbc479ade7339dccb0d412866d637eab94d043a89775664a21c52a8fa551a37946f6eb2c05ded619597b6f388b63c952123ecd0d430313a0be4ee483d2b778cc798b7b94d19602d2ae4c3a57345ce3f397baf66b5852b358ef8426a1644967b4571c192da2b5c80af1d7f3bb2975f4e3a764de700d66089c38e0657921c4edd1e2fa47bd35ab3b967b23e2c5949ba114910f897bfc48e83ae0cae967a4039143b906a13cbe7dbaa67ef5eaf07555730877a4b4928cf7c9683d6918'\n",
        "\n",
        "KAGGLE_INPUT_PATH='/kaggle/input'\n",
        "KAGGLE_WORKING_PATH='/kaggle/working'\n",
        "KAGGLE_SYMLINK='kaggle'\n",
        "\n",
        "!umount /kaggle/input/ 2> /dev/null\n",
        "shutil.rmtree('/kaggle/input', ignore_errors=True)\n",
        "os.makedirs(KAGGLE_INPUT_PATH, 0o777, exist_ok=True)\n",
        "os.makedirs(KAGGLE_WORKING_PATH, 0o777, exist_ok=True)\n",
        "\n",
        "try:\n",
        "  os.symlink(KAGGLE_INPUT_PATH, os.path.join(\"..\", 'input'), target_is_directory=True)\n",
        "except FileExistsError:\n",
        "  pass\n",
        "try:\n",
        "  os.symlink(KAGGLE_WORKING_PATH, os.path.join(\"..\", 'working'), target_is_directory=True)\n",
        "except FileExistsError:\n",
        "  pass\n",
        "\n",
        "for data_source_mapping in DATA_SOURCE_MAPPING.split(','):\n",
        "    directory, download_url_encoded = data_source_mapping.split(':')\n",
        "    download_url = unquote(download_url_encoded)\n",
        "    filename = urlparse(download_url).path\n",
        "    destination_path = os.path.join(KAGGLE_INPUT_PATH, directory)\n",
        "    try:\n",
        "        with urlopen(download_url) as fileres, NamedTemporaryFile() as tfile:\n",
        "            total_length = fileres.headers['content-length']\n",
        "            print(f'Downloading {directory}, {total_length} bytes compressed')\n",
        "            dl = 0\n",
        "            data = fileres.read(CHUNK_SIZE)\n",
        "            while len(data) > 0:\n",
        "                dl += len(data)\n",
        "                tfile.write(data)\n",
        "                done = int(50 * dl / int(total_length))\n",
        "                sys.stdout.write(f\"\\r[{'=' * done}{' ' * (50-done)}] {dl} bytes downloaded\")\n",
        "                sys.stdout.flush()\n",
        "                data = fileres.read(CHUNK_SIZE)\n",
        "            if filename.endswith('.zip'):\n",
        "              with ZipFile(tfile) as zfile:\n",
        "                zfile.extractall(destination_path)\n",
        "            else:\n",
        "              with tarfile.open(tfile.name) as tarfile:\n",
        "                tarfile.extractall(destination_path)\n",
        "            print(f'\\nDownloaded and uncompressed: {directory}')\n",
        "    except HTTPError as e:\n",
        "        print(f'Failed to load (likely expired) {download_url} to path {destination_path}')\n",
        "        continue\n",
        "    except OSError as e:\n",
        "        print(f'Failed to load {download_url} to path {destination_path}')\n",
        "        continue\n",
        "\n",
        "print('Data source import complete.')\n"
      ],
      "metadata": {
        "id": "_jYBUB3P2C2Q"
      },
      "cell_type": "code",
      "outputs": [],
      "execution_count": null
    },
    {
      "cell_type": "markdown",
      "source": [
        "# 1. Introduction 👋\n",
        "<center><img src=\"https://images.unsplash.com/photo-1607619056574-7b8d3ee536b2?ixid=MnwxMjA3fDB8MHxwaG90by1wYWdlfHx8fGVufDB8fHx8&ixlib=rb-1.2.1&auto=format&fit=crop&w=1240&q=80\" alt=\"Drug Picture\" width=\"700\" height=\"700\"></center><br>\n",
        "\n",
        "## Data Set Problems 🤔\n",
        "👉 This dataset contains information about drug classification based on patient general information and its diagnosis. Machine learning model is needed in order **to predict the outcome of the drugs type** that might be suitable for the patient.\n",
        "\n",
        "---\n",
        "\n",
        "## Objectives of Notebook 📌\n",
        "👉 **This notebook aims to:**\n",
        "*   Dataset exploration using various types of data visualization.\n",
        "*   Build various ML models that can predict drug type.\n",
        "\n",
        "👨‍💻 **The machine learning models used in this project are:**\n",
        "1. Linear Logistic Regression\n",
        "2. Linear Support Vector Machine (SVM)\n",
        "3. K Neighbours\n",
        "4. Naive Bayes (Categorical & Gaussian)\n",
        "5. Decision Tree\n",
        "6. Random Forest\n",
        "\n",
        "---\n",
        "\n",
        "## Data Set Description 🧾\n",
        "\n",
        "👉 There are **6 variables** in this data set:\n",
        "*   **4 categorical** variables,and\n",
        "*   **2 continuous** variables.\n",
        "\n",
        "<br>\n",
        "\n",
        "👉 The following is the **structure of the data set**.\n",
        "\n",
        "\n",
        "<table style=\"width:100%\">\n",
        "<thead>\n",
        "<tr>\n",
        "<th style=\"text-align:center; font-weight: bold; font-size:14px\">Variable Name</th>\n",
        "<th style=\"text-align:center; font-weight: bold; font-size:14px\">Description</th>\n",
        "<th style=\"text-align:center; font-weight: bold; font-size:14px\">Sample Data</th>\n",
        "</tr>\n",
        "</thead>\n",
        "<tbody>\n",
        "<tr>\n",
        "<td><b>Age</b></td>\n",
        "<td>Patient Age</td>\n",
        "<td>23; 47; ...</td>\n",
        "</tr>\n",
        "<tr>\n",
        "<td><b>Sex</b></td>\n",
        "<td>Gender of patient <br> (male or female)</td>\n",
        "<td>F; M; ...</td>\n",
        "</tr>\n",
        "<tr>\n",
        "<td><b>BP</b></td>\n",
        "<td>Levels of blood pressure <br> (high, normal, or low)</td>\n",
        "<td>HIGH; NORMAL; LOW; ...</td>\n",
        "</tr>\n",
        "<tr>\n",
        "<td><b>Cholesterol</b></td>\n",
        "<td>Levels of cholesterol <br> (high or normal)</td>\n",
        "<td>1.4; 1.3; ...</td>\n",
        "</tr>\n",
        "<tr>\n",
        "<td><b>Na_to_K</b></td>\n",
        "<td>Sodium to potassium ratio in blood</td>\n",
        "<td>25.355; 13.093; ...</td>\n",
        "</tr>\n",
        "<tr>\n",
        "<td><b>Drug</b></td>\n",
        "<td>Type of drug</td>\n",
        "<td>DrugY; drugC; ...</td>\n",
        "</tr>\n",
        "</tbody>\n",
        "</table>\n",
        "\n",
        "---\n",
        "\n",
        "**Like this notebook? You can support me by giving upvote** 😆👍🔼 <br>\n",
        "👉 *More about myself: [linktr.ee/caesarmario_](http://linktr.ee/caesarmario_)*"
      ],
      "metadata": {
        "id": "LG1NCBE12C2V"
      }
    },
    {
      "cell_type": "markdown",
      "source": [
        "# 2. Importing Libraries 📚\n",
        "👉 **Importing libraries** that will be used in this notebook."
      ],
      "metadata": {
        "id": "2IQ7wR2Nf_UY"
      }
    },
    {
      "cell_type": "code",
      "source": [
        "import numpy as np\n",
        "import pandas as pd\n",
        "import matplotlib.pyplot as plt\n",
        "import seaborn as sns\n",
        "import os"
      ],
      "metadata": {
        "id": "BWyI7RUxdubo",
        "execution": {
          "iopub.status.busy": "2022-03-08T01:25:02.454323Z",
          "iopub.execute_input": "2022-03-08T01:25:02.455073Z",
          "iopub.status.idle": "2022-03-08T01:25:03.462187Z",
          "shell.execute_reply.started": "2022-03-08T01:25:02.454964Z",
          "shell.execute_reply": "2022-03-08T01:25:03.461089Z"
        },
        "trusted": true
      },
      "execution_count": null,
      "outputs": []
    },
    {
      "cell_type": "markdown",
      "source": [
        "# 3. Reading Data Set 👓\n",
        "👉 After importing libraries, we will also **import the dataset** that will be used."
      ],
      "metadata": {
        "id": "GOWA0yfdgKh2"
      }
    },
    {
      "cell_type": "code",
      "source": [
        "df_drug = pd.read_csv(\"../input/drug-classification/drug200.csv\")"
      ],
      "metadata": {
        "id": "MttOdogGf977",
        "execution": {
          "iopub.status.busy": "2022-03-08T01:25:03.464089Z",
          "iopub.execute_input": "2022-03-08T01:25:03.464438Z",
          "iopub.status.idle": "2022-03-08T01:25:03.48285Z",
          "shell.execute_reply.started": "2022-03-08T01:25:03.464398Z",
          "shell.execute_reply": "2022-03-08T01:25:03.482131Z"
        },
        "trusted": true
      },
      "execution_count": null,
      "outputs": []
    },
    {
      "cell_type": "markdown",
      "source": [
        "👉 Read the first 6 rows in the dataset."
      ],
      "metadata": {
        "id": "j6n8cR6a2C2Z"
      }
    },
    {
      "cell_type": "code",
      "source": [
        "df_drug.head()"
      ],
      "metadata": {
        "id": "03SilAIggW36",
        "execution": {
          "iopub.status.busy": "2022-03-08T01:25:03.484781Z",
          "iopub.execute_input": "2022-03-08T01:25:03.485228Z",
          "iopub.status.idle": "2022-03-08T01:25:03.509051Z",
          "shell.execute_reply.started": "2022-03-08T01:25:03.485176Z",
          "shell.execute_reply": "2022-03-08T01:25:03.508369Z"
        },
        "trusted": true
      },
      "execution_count": null,
      "outputs": []
    },
    {
      "cell_type": "markdown",
      "source": [
        "👉 Data type and checking null in dataset."
      ],
      "metadata": {
        "id": "kQWSus9i2C2Z"
      }
    },
    {
      "cell_type": "code",
      "source": [
        "print(df_drug.info())"
      ],
      "metadata": {
        "id": "wxebQ3nmgaB0",
        "execution": {
          "iopub.status.busy": "2022-03-08T01:25:03.510581Z",
          "iopub.execute_input": "2022-03-08T01:25:03.511127Z",
          "iopub.status.idle": "2022-03-08T01:25:03.53687Z",
          "shell.execute_reply.started": "2022-03-08T01:25:03.511066Z",
          "shell.execute_reply": "2022-03-08T01:25:03.535705Z"
        },
        "trusted": true
      },
      "execution_count": null,
      "outputs": []
    },
    {
      "cell_type": "markdown",
      "source": [
        "👉 From the results above, **there are no missing/null value** in this dataset"
      ],
      "metadata": {
        "id": "Q8UvtoqEiT99"
      }
    },
    {
      "cell_type": "markdown",
      "source": [
        "# 4. Initial Dataset Exploration 🔍\n",
        "👉 This section will explore raw dataset that has been imported."
      ],
      "metadata": {
        "id": "PY0yjKQfgcar"
      }
    },
    {
      "cell_type": "markdown",
      "source": [
        "## 4.1 Categorical Variables 📊"
      ],
      "metadata": {
        "id": "SIh-WZeDhSUk"
      }
    },
    {
      "cell_type": "code",
      "source": [
        "df_drug.Drug.value_counts()"
      ],
      "metadata": {
        "id": "1wxlj91AgzBZ",
        "execution": {
          "iopub.status.busy": "2022-03-08T01:25:03.538186Z",
          "iopub.execute_input": "2022-03-08T01:25:03.53852Z",
          "iopub.status.idle": "2022-03-08T01:25:03.545396Z",
          "shell.execute_reply.started": "2022-03-08T01:25:03.538492Z",
          "shell.execute_reply": "2022-03-08T01:25:03.54459Z"
        },
        "trusted": true
      },
      "execution_count": null,
      "outputs": []
    },
    {
      "cell_type": "markdown",
      "source": [
        "👉 It can be seen that from results above, DrugY has more amount than other types of drugs"
      ],
      "metadata": {
        "id": "gntu_S7u2C2a"
      }
    },
    {
      "cell_type": "code",
      "source": [
        "df_drug.Sex.value_counts()"
      ],
      "metadata": {
        "id": "ztSS3uKSg-uU",
        "execution": {
          "iopub.status.busy": "2022-03-08T01:25:03.54655Z",
          "iopub.execute_input": "2022-03-08T01:25:03.546798Z",
          "iopub.status.idle": "2022-03-08T01:25:03.561739Z",
          "shell.execute_reply.started": "2022-03-08T01:25:03.546771Z",
          "shell.execute_reply": "2022-03-08T01:25:03.56093Z"
        },
        "trusted": true
      },
      "execution_count": null,
      "outputs": []
    },
    {
      "cell_type": "markdown",
      "source": [
        "👉 The distribution of patient gender is balanced."
      ],
      "metadata": {
        "id": "3iumWou52C2b"
      }
    },
    {
      "cell_type": "code",
      "source": [
        "df_drug.BP.value_counts()"
      ],
      "metadata": {
        "id": "mZYP8-0uhDbn",
        "execution": {
          "iopub.status.busy": "2022-03-08T01:25:03.562948Z",
          "iopub.execute_input": "2022-03-08T01:25:03.563416Z",
          "iopub.status.idle": "2022-03-08T01:25:03.574146Z",
          "shell.execute_reply.started": "2022-03-08T01:25:03.563382Z",
          "shell.execute_reply": "2022-03-08T01:25:03.573391Z"
        },
        "trusted": true
      },
      "execution_count": null,
      "outputs": []
    },
    {
      "cell_type": "markdown",
      "source": [
        "👉 The distribution of blood pressure level is balanced."
      ],
      "metadata": {
        "id": "U4_zTg-22C2b"
      }
    },
    {
      "cell_type": "code",
      "source": [
        "df_drug.Cholesterol.value_counts()"
      ],
      "metadata": {
        "id": "trZ2eOuFhFXb",
        "execution": {
          "iopub.status.busy": "2022-03-08T01:25:03.57516Z",
          "iopub.execute_input": "2022-03-08T01:25:03.575845Z",
          "iopub.status.idle": "2022-03-08T01:25:03.590774Z",
          "shell.execute_reply.started": "2022-03-08T01:25:03.57581Z",
          "shell.execute_reply": "2022-03-08T01:25:03.589904Z"
        },
        "trusted": true
      },
      "execution_count": null,
      "outputs": []
    },
    {
      "cell_type": "markdown",
      "source": [
        "👉 The distribution of cholesterol level is balanced."
      ],
      "metadata": {
        "id": "fEJq83li2C2b"
      }
    },
    {
      "cell_type": "markdown",
      "source": [
        "## 4.2 Numerical Variables 🔢\n",
        "👉 This section will show mean, count, std, min, max and others using describe function. The skewness value for each numerical variables will also shown in this section."
      ],
      "metadata": {
        "id": "pqvB06WYhV9o"
      }
    },
    {
      "cell_type": "code",
      "source": [
        "df_drug.describe()"
      ],
      "metadata": {
        "id": "1ugOd6wihXjS",
        "execution": {
          "iopub.status.busy": "2022-03-08T01:25:03.592609Z",
          "iopub.execute_input": "2022-03-08T01:25:03.593153Z",
          "iopub.status.idle": "2022-03-08T01:25:03.618051Z",
          "shell.execute_reply.started": "2022-03-08T01:25:03.593112Z",
          "shell.execute_reply": "2022-03-08T01:25:03.617094Z"
        },
        "trusted": true
      },
      "execution_count": null,
      "outputs": []
    },
    {
      "cell_type": "code",
      "source": [
        "skewAge = df_drug.Age.skew(axis = 0, skipna = True)\n",
        "print('Age skewness: ', skewAge)"
      ],
      "metadata": {
        "id": "BdcdYKewh3Qt",
        "execution": {
          "iopub.status.busy": "2022-03-08T01:25:03.621816Z",
          "iopub.execute_input": "2022-03-08T01:25:03.622252Z",
          "iopub.status.idle": "2022-03-08T01:25:03.62859Z",
          "shell.execute_reply.started": "2022-03-08T01:25:03.622219Z",
          "shell.execute_reply": "2022-03-08T01:25:03.62769Z"
        },
        "trusted": true
      },
      "execution_count": null,
      "outputs": []
    },
    {
      "cell_type": "code",
      "source": [
        "skewNatoK = df_drug.Na_to_K.skew(axis = 0, skipna = True)\n",
        "print('Na to K skewness: ', skewNatoK)"
      ],
      "metadata": {
        "id": "RH84R0yyiD8o",
        "execution": {
          "iopub.status.busy": "2022-03-08T01:25:03.629716Z",
          "iopub.execute_input": "2022-03-08T01:25:03.630054Z",
          "iopub.status.idle": "2022-03-08T01:25:03.647475Z",
          "shell.execute_reply.started": "2022-03-08T01:25:03.630015Z",
          "shell.execute_reply": "2022-03-08T01:25:03.646198Z"
        },
        "trusted": true
      },
      "execution_count": null,
      "outputs": []
    },
    {
      "cell_type": "code",
      "source": [
        "sns.distplot(df_drug['Age']);"
      ],
      "metadata": {
        "id": "x3x2nvtOlXmL",
        "execution": {
          "iopub.status.busy": "2022-03-08T01:25:03.648679Z",
          "iopub.execute_input": "2022-03-08T01:25:03.649531Z",
          "iopub.status.idle": "2022-03-08T01:25:03.973293Z",
          "shell.execute_reply.started": "2022-03-08T01:25:03.649478Z",
          "shell.execute_reply": "2022-03-08T01:25:03.97246Z"
        },
        "trusted": true
      },
      "execution_count": null,
      "outputs": []
    },
    {
      "cell_type": "code",
      "source": [
        "sns.distplot(df_drug['Na_to_K']);"
      ],
      "metadata": {
        "id": "1Ntxk96ulaeQ",
        "execution": {
          "iopub.status.busy": "2022-03-08T01:25:03.974626Z",
          "iopub.execute_input": "2022-03-08T01:25:03.974959Z",
          "iopub.status.idle": "2022-03-08T01:25:04.225268Z",
          "shell.execute_reply.started": "2022-03-08T01:25:03.974898Z",
          "shell.execute_reply": "2022-03-08T01:25:04.22441Z"
        },
        "trusted": true
      },
      "execution_count": null,
      "outputs": []
    },
    {
      "cell_type": "markdown",
      "source": [
        "👉The distribution of **'Age'** column is **symetric**, since the skewness value  between -0.5 and 0.5 <br>\n",
        "👉The distribution of **'Na_to_K'** column is **moderately skewed**, since the skewness value is ***between 0.5 and 1***. It can also be seen from the histogram for 'Na_to_K' column"
      ],
      "metadata": {
        "id": "eAQzoK6VkbbM"
      }
    },
    {
      "cell_type": "markdown",
      "source": [
        "# 5. EDA 📊\n",
        "👉 This section will explore variables in the dataset using different various plots/charts."
      ],
      "metadata": {
        "id": "MWjpuZDGiNrb"
      }
    },
    {
      "cell_type": "markdown",
      "source": [
        "## 5.1 Drug Type Distribution 💊"
      ],
      "metadata": {
        "id": "mIpFJMB62C2c"
      }
    },
    {
      "cell_type": "code",
      "source": [
        "sns.set_theme(style=\"darkgrid\")\n",
        "sns.countplot(y=\"Drug\", data=df_drug, palette=\"flare\")\n",
        "plt.ylabel('Drug Type')\n",
        "plt.xlabel('Total')\n",
        "plt.show()"
      ],
      "metadata": {
        "id": "3b7RwO3rnH-u",
        "execution": {
          "iopub.status.busy": "2022-03-08T01:25:04.226693Z",
          "iopub.execute_input": "2022-03-08T01:25:04.226906Z",
          "iopub.status.idle": "2022-03-08T01:25:04.470924Z",
          "shell.execute_reply.started": "2022-03-08T01:25:04.226881Z",
          "shell.execute_reply": "2022-03-08T01:25:04.469815Z"
        },
        "trusted": true
      },
      "execution_count": null,
      "outputs": []
    },
    {
      "cell_type": "markdown",
      "source": [
        "## 5.2 Gender Distribution 👫"
      ],
      "metadata": {
        "id": "fyBDOofn2C2c"
      }
    },
    {
      "cell_type": "code",
      "source": [
        "sns.set_theme(style=\"darkgrid\")\n",
        "sns.countplot(x=\"Sex\", data=df_drug, palette=\"rocket\")\n",
        "plt.xlabel('Gender (F=Female, M=Male)')\n",
        "plt.ylabel('Total')\n",
        "plt.show()"
      ],
      "metadata": {
        "id": "FQktCCnppjoN",
        "execution": {
          "iopub.status.busy": "2022-03-08T01:25:04.47233Z",
          "iopub.execute_input": "2022-03-08T01:25:04.472551Z",
          "iopub.status.idle": "2022-03-08T01:25:04.604338Z",
          "shell.execute_reply.started": "2022-03-08T01:25:04.472525Z",
          "shell.execute_reply": "2022-03-08T01:25:04.603463Z"
        },
        "trusted": true
      },
      "execution_count": null,
      "outputs": []
    },
    {
      "cell_type": "markdown",
      "source": [
        "## 5.3 Blood Pressure Distribution 🩸"
      ],
      "metadata": {
        "id": "r2fRh02K2C2c"
      }
    },
    {
      "cell_type": "code",
      "source": [
        "sns.set_theme(style=\"darkgrid\")\n",
        "sns.countplot(y=\"BP\", data=df_drug, palette=\"crest\")\n",
        "plt.ylabel('Blood Pressure')\n",
        "plt.xlabel('Total')\n",
        "plt.show()"
      ],
      "metadata": {
        "id": "qoN-IX-W2n2e",
        "execution": {
          "iopub.status.busy": "2022-03-08T01:25:04.605687Z",
          "iopub.execute_input": "2022-03-08T01:25:04.605963Z",
          "iopub.status.idle": "2022-03-08T01:25:04.879161Z",
          "shell.execute_reply.started": "2022-03-08T01:25:04.605906Z",
          "shell.execute_reply": "2022-03-08T01:25:04.877445Z"
        },
        "trusted": true
      },
      "execution_count": null,
      "outputs": []
    },
    {
      "cell_type": "markdown",
      "source": [
        "## 5.4 Cholesterol Distribution 🥛"
      ],
      "metadata": {
        "id": "Zxv4cbE92C2c"
      }
    },
    {
      "cell_type": "code",
      "source": [
        "sns.set_theme(style=\"darkgrid\")\n",
        "sns.countplot(x=\"Cholesterol\", data=df_drug, palette=\"magma\")\n",
        "plt.xlabel('Blood Pressure')\n",
        "plt.ylabel('Total')\n",
        "plt.show()"
      ],
      "metadata": {
        "id": "8knVYttd26h1",
        "execution": {
          "iopub.status.busy": "2022-03-08T01:25:04.880357Z",
          "iopub.execute_input": "2022-03-08T01:25:04.880605Z",
          "iopub.status.idle": "2022-03-08T01:25:05.068082Z",
          "shell.execute_reply.started": "2022-03-08T01:25:04.880578Z",
          "shell.execute_reply": "2022-03-08T01:25:05.067195Z"
        },
        "trusted": true
      },
      "execution_count": null,
      "outputs": []
    },
    {
      "cell_type": "markdown",
      "source": [
        "## 5.5 Gender Distribution based on Drug Type 👫💊"
      ],
      "metadata": {
        "id": "eKbtHMmK2C2d"
      }
    },
    {
      "cell_type": "code",
      "source": [
        "pd.crosstab(df_drug.Sex,df_drug.Drug).plot(kind=\"bar\",figsize=(12,5),color=['#003f5c','#ffa600','#58508d','#bc5090','#ff6361'])\n",
        "plt.title('Gender distribution based on Drug type')\n",
        "plt.xlabel('Gender')\n",
        "plt.xticks(rotation=0)\n",
        "plt.ylabel('Frequency')\n",
        "plt.show()"
      ],
      "metadata": {
        "id": "T47gXdj9pxD8",
        "execution": {
          "iopub.status.busy": "2022-03-08T01:25:05.069456Z",
          "iopub.execute_input": "2022-03-08T01:25:05.069991Z",
          "iopub.status.idle": "2022-03-08T01:25:05.484282Z",
          "shell.execute_reply.started": "2022-03-08T01:25:05.069947Z",
          "shell.execute_reply": "2022-03-08T01:25:05.483659Z"
        },
        "trusted": true
      },
      "execution_count": null,
      "outputs": []
    },
    {
      "cell_type": "markdown",
      "source": [
        "## 5.6 Blood Pressure Distribution based on Cholesetrol 🩸🥛"
      ],
      "metadata": {
        "id": "8fVV92T92C2i"
      }
    },
    {
      "cell_type": "code",
      "source": [
        "pd.crosstab(df_drug.BP,df_drug.Cholesterol).plot(kind=\"bar\",figsize=(15,6),color=['#6929c4','#1192e8'])\n",
        "plt.title('Blood Pressure distribution based on Cholesterol')\n",
        "plt.xlabel('Blood Pressure')\n",
        "plt.xticks(rotation=0)\n",
        "plt.ylabel('Frequency')\n",
        "plt.show()"
      ],
      "metadata": {
        "id": "bg01FIf75DRW",
        "execution": {
          "iopub.status.busy": "2022-03-08T01:25:05.485401Z",
          "iopub.execute_input": "2022-03-08T01:25:05.486273Z",
          "iopub.status.idle": "2022-03-08T01:25:05.773587Z",
          "shell.execute_reply.started": "2022-03-08T01:25:05.486231Z",
          "shell.execute_reply": "2022-03-08T01:25:05.772235Z"
        },
        "trusted": true
      },
      "execution_count": null,
      "outputs": []
    },
    {
      "cell_type": "markdown",
      "source": [
        "## 5.7 Sodium to Potassium Distribution based on Gender and Age 🧪👫👴"
      ],
      "metadata": {
        "id": "XTZgnirJ2C2i"
      }
    },
    {
      "cell_type": "code",
      "source": [
        "plt.scatter(x=df_drug.Age[df_drug.Sex=='F'], y=df_drug.Na_to_K[(df_drug.Sex=='F')], c=\"Blue\")\n",
        "plt.scatter(x=df_drug.Age[df_drug.Sex=='M'], y=df_drug.Na_to_K[(df_drug.Sex=='M')], c=\"Orange\")\n",
        "plt.legend([\"Female\", \"Male\"])\n",
        "plt.xlabel(\"Age\")\n",
        "plt.ylabel(\"Na_to_K\")\n",
        "plt.show()"
      ],
      "metadata": {
        "id": "Lz49pj9X7ZTS",
        "execution": {
          "iopub.status.busy": "2022-03-08T01:25:05.77588Z",
          "iopub.execute_input": "2022-03-08T01:25:05.776578Z",
          "iopub.status.idle": "2022-03-08T01:25:06.123716Z",
          "shell.execute_reply.started": "2022-03-08T01:25:05.776497Z",
          "shell.execute_reply": "2022-03-08T01:25:06.122843Z"
        },
        "trusted": true
      },
      "execution_count": null,
      "outputs": []
    },
    {
      "cell_type": "markdown",
      "source": [
        "# 6. Dataset Preparation ⚙\n",
        "👉 This section will prepare the dataset before building the machine learning models."
      ],
      "metadata": {
        "id": "vwJ_hPlzl32j"
      }
    },
    {
      "cell_type": "markdown",
      "source": [
        "## 6.1 Data Binning 🚮"
      ],
      "metadata": {
        "id": "ozM4xmd5mSrn"
      }
    },
    {
      "cell_type": "markdown",
      "source": [
        "### 6.1.1 Age 👴\n",
        "👉 The age will be divided into **7 age categories**:\n",
        "*  Below 20 y.o.\n",
        "*  20 - 29 y.o.\n",
        "*  30 - 39 y.o.\n",
        "*  40 - 49 y.o.\n",
        "*  50 - 59 y.o.\n",
        "*  60 - 69 y.o.\n",
        "*  Above 70."
      ],
      "metadata": {
        "id": "NOZNMiUsm058"
      }
    },
    {
      "cell_type": "code",
      "source": [
        "bin_age = [0, 19, 29, 39, 49, 59, 69, 80]\n",
        "category_age = ['<20s', '20s', '30s', '40s', '50s', '60s', '>60s']\n",
        "df_drug['Age_binned'] = pd.cut(df_drug['Age'], bins=bin_age, labels=category_age)\n",
        "df_drug = df_drug.drop(['Age'], axis = 1)"
      ],
      "metadata": {
        "id": "CDg1nDQamzvu",
        "execution": {
          "iopub.status.busy": "2022-03-08T01:25:06.125022Z",
          "iopub.execute_input": "2022-03-08T01:25:06.125267Z",
          "iopub.status.idle": "2022-03-08T01:25:06.135089Z",
          "shell.execute_reply.started": "2022-03-08T01:25:06.125239Z",
          "shell.execute_reply": "2022-03-08T01:25:06.134031Z"
        },
        "trusted": true
      },
      "execution_count": null,
      "outputs": []
    },
    {
      "cell_type": "markdown",
      "source": [
        "### 6.1.2 Na_to_K 🧪\n",
        "👉 The chemical ratio will be divided into **4 categories**:\n",
        "*  Below 10.\n",
        "*  10 - 20.\n",
        "*  20 - 30.\n",
        "*  Above 30."
      ],
      "metadata": {
        "id": "3CcOt0Ilm4C8"
      }
    },
    {
      "cell_type": "code",
      "source": [
        "bin_NatoK = [0, 9, 19, 29, 50]\n",
        "category_NatoK = ['<10', '10-20', '20-30', '>30']\n",
        "df_drug['Na_to_K_binned'] = pd.cut(df_drug['Na_to_K'], bins=bin_NatoK, labels=category_NatoK)\n",
        "df_drug = df_drug.drop(['Na_to_K'], axis = 1)"
      ],
      "metadata": {
        "id": "bhoBfPl3m9zN",
        "execution": {
          "iopub.status.busy": "2022-03-08T01:25:06.136263Z",
          "iopub.execute_input": "2022-03-08T01:25:06.136487Z",
          "iopub.status.idle": "2022-03-08T01:25:06.15284Z",
          "shell.execute_reply.started": "2022-03-08T01:25:06.13646Z",
          "shell.execute_reply": "2022-03-08T01:25:06.152029Z"
        },
        "trusted": true
      },
      "execution_count": null,
      "outputs": []
    },
    {
      "cell_type": "markdown",
      "source": [
        "## 6.2 Splitting the dataset 🪓\n",
        "👉 The dataset will be split into **70% training and 30% testing**."
      ],
      "metadata": {
        "id": "ts4FHhNuyZ3G"
      }
    },
    {
      "cell_type": "code",
      "source": [
        "from sklearn.metrics import confusion_matrix\n",
        "from sklearn.metrics import classification_report"
      ],
      "metadata": {
        "id": "8b9Slzpdycfy",
        "execution": {
          "iopub.status.busy": "2022-03-08T01:25:06.154416Z",
          "iopub.execute_input": "2022-03-08T01:25:06.154766Z",
          "iopub.status.idle": "2022-03-08T01:25:06.327407Z",
          "shell.execute_reply.started": "2022-03-08T01:25:06.154675Z",
          "shell.execute_reply": "2022-03-08T01:25:06.326484Z"
        },
        "trusted": true
      },
      "execution_count": null,
      "outputs": []
    },
    {
      "cell_type": "code",
      "source": [
        "X = df_drug.drop([\"Drug\"], axis=1)\n",
        "y = df_drug[\"Drug\"]\n",
        "\n",
        "from sklearn.model_selection import train_test_split\n",
        "X_train, X_test, y_train, y_test = train_test_split(X, y, test_size = 0.3, random_state = 0)"
      ],
      "metadata": {
        "id": "8Ryn2U0Syvo5",
        "execution": {
          "iopub.status.busy": "2022-03-08T01:25:06.328587Z",
          "iopub.execute_input": "2022-03-08T01:25:06.328831Z",
          "iopub.status.idle": "2022-03-08T01:25:06.35352Z",
          "shell.execute_reply.started": "2022-03-08T01:25:06.328803Z",
          "shell.execute_reply": "2022-03-08T01:25:06.352872Z"
        },
        "trusted": true
      },
      "execution_count": null,
      "outputs": []
    },
    {
      "cell_type": "markdown",
      "source": [
        "## 6.3 Feature Engineering 🔧\n",
        "👉 The FE method that used is **one-hot encoding**, which is **transforming categorical variables into a form that could be provided to ML algorithms to do a better prediction**."
      ],
      "metadata": {
        "id": "pUab4khX2beO"
      }
    },
    {
      "cell_type": "code",
      "source": [
        "X_train = pd.get_dummies(X_train)\n",
        "X_test = pd.get_dummies(X_test)"
      ],
      "metadata": {
        "id": "E_RiMVZg2bH_",
        "execution": {
          "iopub.status.busy": "2022-03-08T01:25:06.35512Z",
          "iopub.execute_input": "2022-03-08T01:25:06.35568Z",
          "iopub.status.idle": "2022-03-08T01:25:06.374095Z",
          "shell.execute_reply.started": "2022-03-08T01:25:06.355628Z",
          "shell.execute_reply": "2022-03-08T01:25:06.373151Z"
        },
        "trusted": true
      },
      "execution_count": null,
      "outputs": []
    },
    {
      "cell_type": "code",
      "source": [
        "X_train.head()"
      ],
      "metadata": {
        "execution": {
          "iopub.status.busy": "2022-03-08T01:25:06.375202Z",
          "iopub.execute_input": "2022-03-08T01:25:06.375677Z",
          "iopub.status.idle": "2022-03-08T01:25:06.390213Z",
          "shell.execute_reply.started": "2022-03-08T01:25:06.375644Z",
          "shell.execute_reply": "2022-03-08T01:25:06.389529Z"
        },
        "trusted": true,
        "id": "C-Vlap642C2l"
      },
      "execution_count": null,
      "outputs": []
    },
    {
      "cell_type": "code",
      "source": [
        "X_test.head()"
      ],
      "metadata": {
        "execution": {
          "iopub.status.busy": "2022-03-08T01:25:06.391117Z",
          "iopub.execute_input": "2022-03-08T01:25:06.39177Z",
          "iopub.status.idle": "2022-03-08T01:25:06.416096Z",
          "shell.execute_reply.started": "2022-03-08T01:25:06.391737Z",
          "shell.execute_reply": "2022-03-08T01:25:06.415215Z"
        },
        "trusted": true,
        "id": "ivKuCm0Q2C2l"
      },
      "execution_count": null,
      "outputs": []
    },
    {
      "cell_type": "markdown",
      "source": [
        "## 6.4 SMOTE Technique ⚒\n",
        "\n",
        "👉 Since the number of 'DrugY' is more than other types of drugs, **oversampling is carried out to avoid overfitting**."
      ],
      "metadata": {
        "id": "Y17SOiU8kz5K"
      }
    },
    {
      "cell_type": "code",
      "source": [
        "from imblearn.over_sampling import SMOTE\n",
        "X_train, y_train = SMOTE().fit_resample(X_train, y_train)"
      ],
      "metadata": {
        "id": "_dGygsNalXbp",
        "execution": {
          "iopub.status.busy": "2022-03-08T01:25:06.419712Z",
          "iopub.execute_input": "2022-03-08T01:25:06.420334Z",
          "iopub.status.idle": "2022-03-08T01:25:06.775699Z",
          "shell.execute_reply.started": "2022-03-08T01:25:06.420291Z",
          "shell.execute_reply": "2022-03-08T01:25:06.774481Z"
        },
        "trusted": true
      },
      "execution_count": null,
      "outputs": []
    },
    {
      "cell_type": "code",
      "source": [
        "sns.set_theme(style=\"darkgrid\")\n",
        "sns.countplot(y=y_train, data=df_drug, palette=\"mako_r\")\n",
        "plt.ylabel('Drug Type')\n",
        "plt.xlabel('Total')\n",
        "plt.show()"
      ],
      "metadata": {
        "id": "x8SkcI_qlxQ2",
        "execution": {
          "iopub.status.busy": "2022-03-08T01:25:06.776962Z",
          "iopub.execute_input": "2022-03-08T01:25:06.777276Z",
          "iopub.status.idle": "2022-03-08T01:25:07.043721Z",
          "shell.execute_reply.started": "2022-03-08T01:25:06.777236Z",
          "shell.execute_reply": "2022-03-08T01:25:07.042788Z"
        },
        "trusted": true
      },
      "execution_count": null,
      "outputs": []
    },
    {
      "cell_type": "markdown",
      "source": [
        "👉 As can be seen, the distrubtion of drug type are now balanced."
      ],
      "metadata": {
        "id": "WgxgyfVv2C2o"
      }
    },
    {
      "cell_type": "markdown",
      "source": [
        "# 7. Models 🛠"
      ],
      "metadata": {
        "id": "ZdHv3O78nKZu"
      }
    },
    {
      "cell_type": "markdown",
      "source": [
        "## 7.1 Logistic Regression"
      ],
      "metadata": {
        "id": "Zj2R6eVonNpv"
      }
    },
    {
      "cell_type": "code",
      "source": [
        "from sklearn.linear_model import LogisticRegression\n",
        "LRclassifier = LogisticRegression(solver='liblinear', max_iter=5000)\n",
        "LRclassifier.fit(X_train, y_train)\n",
        "\n",
        "y_pred = LRclassifier.predict(X_test)\n",
        "\n",
        "print(classification_report(y_test, y_pred))\n",
        "print(confusion_matrix(y_test, y_pred))\n",
        "\n",
        "from sklearn.metrics import accuracy_score\n",
        "LRAcc = accuracy_score(y_pred,y_test)\n",
        "print('Logistic Regression accuracy is: {:.2f}%'.format(LRAcc*100))"
      ],
      "metadata": {
        "id": "d5s0LhCOnSqn",
        "execution": {
          "iopub.status.busy": "2022-03-08T01:25:07.045157Z",
          "iopub.execute_input": "2022-03-08T01:25:07.045454Z",
          "iopub.status.idle": "2022-03-08T01:25:07.091555Z",
          "shell.execute_reply.started": "2022-03-08T01:25:07.045415Z",
          "shell.execute_reply": "2022-03-08T01:25:07.090643Z"
        },
        "trusted": true
      },
      "execution_count": null,
      "outputs": []
    },
    {
      "cell_type": "markdown",
      "source": [
        "## 7.2 K Neighbours"
      ],
      "metadata": {
        "id": "IMVGDivBnTCN"
      }
    },
    {
      "cell_type": "code",
      "source": [
        "from sklearn.neighbors import KNeighborsClassifier\n",
        "KNclassifier = KNeighborsClassifier(n_neighbors=20)\n",
        "KNclassifier.fit(X_train, y_train)\n",
        "\n",
        "y_pred = KNclassifier.predict(X_test)\n",
        "\n",
        "print(classification_report(y_test, y_pred))\n",
        "print(confusion_matrix(y_test, y_pred))\n",
        "\n",
        "from sklearn.metrics import accuracy_score\n",
        "KNAcc = accuracy_score(y_pred,y_test)\n",
        "print('K Neighbours accuracy is: {:.2f}%'.format(KNAcc*100))"
      ],
      "metadata": {
        "execution": {
          "iopub.status.busy": "2022-03-08T01:25:07.092947Z",
          "iopub.execute_input": "2022-03-08T01:25:07.093453Z",
          "iopub.status.idle": "2022-03-08T01:25:07.11846Z",
          "shell.execute_reply.started": "2022-03-08T01:25:07.093409Z",
          "shell.execute_reply": "2022-03-08T01:25:07.117633Z"
        },
        "trusted": true,
        "id": "V8KlMfvU2C2p"
      },
      "execution_count": null,
      "outputs": []
    },
    {
      "cell_type": "code",
      "source": [
        "scoreListknn = []\n",
        "for i in range(1,30):\n",
        "    KNclassifier = KNeighborsClassifier(n_neighbors = i)\n",
        "    KNclassifier.fit(X_train, y_train)\n",
        "    scoreListknn.append(KNclassifier.score(X_test, y_test))\n",
        "\n",
        "plt.plot(range(1,30), scoreListknn)\n",
        "plt.xticks(np.arange(1,30,1))\n",
        "plt.xlabel(\"K value\")\n",
        "plt.ylabel(\"Score\")\n",
        "plt.show()\n",
        "KNAccMax = max(scoreListknn)\n",
        "print(\"KNN Acc Max {:.2f}%\".format(KNAccMax*100))"
      ],
      "metadata": {
        "execution": {
          "iopub.status.busy": "2022-03-08T01:25:07.11979Z",
          "iopub.execute_input": "2022-03-08T01:25:07.120382Z",
          "iopub.status.idle": "2022-03-08T01:25:07.76029Z",
          "shell.execute_reply.started": "2022-03-08T01:25:07.120338Z",
          "shell.execute_reply": "2022-03-08T01:25:07.759362Z"
        },
        "trusted": true,
        "id": "lgZ9pw3u2C2p"
      },
      "execution_count": null,
      "outputs": []
    },
    {
      "cell_type": "markdown",
      "source": [
        "## 7.3 Support Vector Machine (SVM)"
      ],
      "metadata": {
        "id": "2D1sczYQneQZ"
      }
    },
    {
      "cell_type": "code",
      "source": [
        "from sklearn.svm import SVC\n",
        "SVCclassifier = SVC(kernel='linear', max_iter=251)\n",
        "SVCclassifier.fit(X_train, y_train)\n",
        "\n",
        "y_pred = SVCclassifier.predict(X_test)\n",
        "\n",
        "print(classification_report(y_test, y_pred))\n",
        "print(confusion_matrix(y_test, y_pred))\n",
        "\n",
        "from sklearn.metrics import accuracy_score\n",
        "SVCAcc = accuracy_score(y_pred,y_test)\n",
        "print('SVC accuracy is: {:.2f}%'.format(SVCAcc*100))"
      ],
      "metadata": {
        "id": "OF7hCd8dnhQB",
        "execution": {
          "iopub.status.busy": "2022-03-08T01:25:07.76148Z",
          "iopub.execute_input": "2022-03-08T01:25:07.761731Z",
          "iopub.status.idle": "2022-03-08T01:25:07.791331Z",
          "shell.execute_reply.started": "2022-03-08T01:25:07.761703Z",
          "shell.execute_reply": "2022-03-08T01:25:07.79044Z"
        },
        "trusted": true
      },
      "execution_count": null,
      "outputs": []
    },
    {
      "cell_type": "markdown",
      "source": [
        "## 7.4 Naive Bayes\n",
        "### 7.4.1 Categorical NB"
      ],
      "metadata": {
        "id": "e9WsQ86xninn"
      }
    },
    {
      "cell_type": "code",
      "source": [
        "from sklearn.naive_bayes import CategoricalNB\n",
        "NBclassifier1 = CategoricalNB()\n",
        "NBclassifier1.fit(X_train, y_train)\n",
        "\n",
        "y_pred = NBclassifier1.predict(X_test)\n",
        "\n",
        "print(classification_report(y_test, y_pred))\n",
        "print(confusion_matrix(y_test, y_pred))\n",
        "\n",
        "from sklearn.metrics import accuracy_score\n",
        "NBAcc1 = accuracy_score(y_pred,y_test)\n",
        "print('Naive Bayes accuracy is: {:.2f}%'.format(NBAcc1*100))"
      ],
      "metadata": {
        "id": "hDILPZC-nktC",
        "execution": {
          "iopub.status.busy": "2022-03-08T01:25:07.79256Z",
          "iopub.execute_input": "2022-03-08T01:25:07.792796Z",
          "iopub.status.idle": "2022-03-08T01:25:07.819515Z",
          "shell.execute_reply.started": "2022-03-08T01:25:07.792769Z",
          "shell.execute_reply": "2022-03-08T01:25:07.818883Z"
        },
        "trusted": true
      },
      "execution_count": null,
      "outputs": []
    },
    {
      "cell_type": "markdown",
      "source": [
        "### 7.4.2 Gaussian NB"
      ],
      "metadata": {
        "id": "OfgQf-Bk2C2q"
      }
    },
    {
      "cell_type": "code",
      "source": [
        "from sklearn.naive_bayes import GaussianNB\n",
        "NBclassifier2 = GaussianNB()\n",
        "NBclassifier2.fit(X_train, y_train)\n",
        "\n",
        "y_pred = NBclassifier2.predict(X_test)\n",
        "\n",
        "print(classification_report(y_test, y_pred))\n",
        "print(confusion_matrix(y_test, y_pred))\n",
        "\n",
        "from sklearn.metrics import accuracy_score\n",
        "NBAcc2 = accuracy_score(y_pred,y_test)\n",
        "print('Gaussian Naive Bayes accuracy is: {:.2f}%'.format(NBAcc2*100))"
      ],
      "metadata": {
        "execution": {
          "iopub.status.busy": "2022-03-08T01:25:07.820582Z",
          "iopub.execute_input": "2022-03-08T01:25:07.821105Z",
          "iopub.status.idle": "2022-03-08T01:25:07.841769Z",
          "shell.execute_reply.started": "2022-03-08T01:25:07.821073Z",
          "shell.execute_reply": "2022-03-08T01:25:07.840906Z"
        },
        "trusted": true,
        "id": "G4dvCDIz2C2q"
      },
      "execution_count": null,
      "outputs": []
    },
    {
      "cell_type": "markdown",
      "source": [
        "## 7.5 Decision Tree"
      ],
      "metadata": {
        "id": "t2mXDibjnj2q"
      }
    },
    {
      "cell_type": "code",
      "source": [
        "from sklearn.tree import DecisionTreeClassifier\n",
        "DTclassifier = DecisionTreeClassifier(max_leaf_nodes=20)\n",
        "DTclassifier.fit(X_train, y_train)\n",
        "\n",
        "y_pred = DTclassifier.predict(X_test)\n",
        "\n",
        "print(classification_report(y_test, y_pred))\n",
        "print(confusion_matrix(y_test, y_pred))\n",
        "\n",
        "from sklearn.metrics import accuracy_score\n",
        "DTAcc = accuracy_score(y_pred,y_test)\n",
        "print('Decision Tree accuracy is: {:.2f}%'.format(DTAcc*100))"
      ],
      "metadata": {
        "id": "08HoXmgsnmd0",
        "execution": {
          "iopub.status.busy": "2022-03-08T01:25:07.843253Z",
          "iopub.execute_input": "2022-03-08T01:25:07.843847Z",
          "iopub.status.idle": "2022-03-08T01:25:07.864032Z",
          "shell.execute_reply.started": "2022-03-08T01:25:07.843802Z",
          "shell.execute_reply": "2022-03-08T01:25:07.863004Z"
        },
        "trusted": true
      },
      "execution_count": null,
      "outputs": []
    },
    {
      "cell_type": "code",
      "source": [
        "scoreListDT = []\n",
        "for i in range(2,50):\n",
        "    DTclassifier = DecisionTreeClassifier(max_leaf_nodes=i)\n",
        "    DTclassifier.fit(X_train, y_train)\n",
        "    scoreListDT.append(DTclassifier.score(X_test, y_test))\n",
        "\n",
        "plt.plot(range(2,50), scoreListDT)\n",
        "plt.xticks(np.arange(2,50,5))\n",
        "plt.xlabel(\"Leaf\")\n",
        "plt.ylabel(\"Score\")\n",
        "plt.show()\n",
        "DTAccMax = max(scoreListDT)\n",
        "print(\"DT Acc Max {:.2f}%\".format(DTAccMax*100))"
      ],
      "metadata": {
        "execution": {
          "iopub.status.busy": "2022-03-08T01:25:07.865419Z",
          "iopub.execute_input": "2022-03-08T01:25:07.865673Z",
          "iopub.status.idle": "2022-03-08T01:25:08.318016Z",
          "shell.execute_reply.started": "2022-03-08T01:25:07.865647Z",
          "shell.execute_reply": "2022-03-08T01:25:08.31702Z"
        },
        "trusted": true,
        "id": "WX_mGCdK2C2q"
      },
      "execution_count": null,
      "outputs": []
    },
    {
      "cell_type": "markdown",
      "source": [
        "## 7.6 Random Forest"
      ],
      "metadata": {
        "id": "RddcpXutnmsq"
      }
    },
    {
      "cell_type": "code",
      "source": [
        "from sklearn.ensemble import RandomForestClassifier\n",
        "\n",
        "RFclassifier = RandomForestClassifier(max_leaf_nodes=30)\n",
        "RFclassifier.fit(X_train, y_train)\n",
        "\n",
        "y_pred = RFclassifier.predict(X_test)\n",
        "\n",
        "print(classification_report(y_test, y_pred))\n",
        "print(confusion_matrix(y_test, y_pred))\n",
        "\n",
        "from sklearn.metrics import accuracy_score\n",
        "RFAcc = accuracy_score(y_pred,y_test)\n",
        "print('Random Forest accuracy is: {:.2f}%'.format(RFAcc*100))"
      ],
      "metadata": {
        "id": "N1m2oLhRnzm8",
        "execution": {
          "iopub.status.busy": "2022-03-08T01:25:08.319283Z",
          "iopub.execute_input": "2022-03-08T01:25:08.319518Z",
          "iopub.status.idle": "2022-03-08T01:25:08.54214Z",
          "shell.execute_reply.started": "2022-03-08T01:25:08.31948Z",
          "shell.execute_reply": "2022-03-08T01:25:08.541247Z"
        },
        "trusted": true
      },
      "execution_count": null,
      "outputs": []
    },
    {
      "cell_type": "code",
      "source": [
        "scoreListRF = []\n",
        "for i in range(2,50):\n",
        "    RFclassifier = RandomForestClassifier(n_estimators = 1000, random_state = 1, max_leaf_nodes=i)\n",
        "    RFclassifier.fit(X_train, y_train)\n",
        "    scoreListRF.append(RFclassifier.score(X_test, y_test))\n",
        "\n",
        "plt.plot(range(2,50), scoreListRF)\n",
        "plt.xticks(np.arange(2,50,5))\n",
        "plt.xlabel(\"RF Value\")\n",
        "plt.ylabel(\"Score\")\n",
        "plt.show()\n",
        "RFAccMax = max(scoreListRF)\n",
        "print(\"RF Acc Max {:.2f}%\".format(RFAccMax*100))"
      ],
      "metadata": {
        "execution": {
          "iopub.status.busy": "2022-03-08T01:25:08.543439Z",
          "iopub.execute_input": "2022-03-08T01:25:08.544351Z",
          "iopub.status.idle": "2022-03-08T01:26:43.758635Z",
          "shell.execute_reply.started": "2022-03-08T01:25:08.544304Z",
          "shell.execute_reply": "2022-03-08T01:26:43.757694Z"
        },
        "trusted": true,
        "id": "ogENBBDI2C2r"
      },
      "execution_count": null,
      "outputs": []
    },
    {
      "cell_type": "markdown",
      "source": [
        "# 8. Model Comparison 👀"
      ],
      "metadata": {
        "id": "_xm7OvKS07Zl"
      }
    },
    {
      "cell_type": "code",
      "source": [
        "compare = pd.DataFrame({'Model': ['Logistic Regression', 'K Neighbors', 'K Neighbors Max', 'SVM', 'Categorical NB', 'Gaussian NB', 'Decision Tree', 'Decision Tree Max', 'Random Forest', 'Random Forest Max'],\n",
        "                        'Accuracy': [LRAcc*100, KNAcc*100, KNAccMax*100, SVCAcc*100, NBAcc1*100, NBAcc2*100, DTAcc*100, DTAccMax*100, RFAcc*100, RFAccMax*100]})\n",
        "compare.sort_values(by='Accuracy', ascending=False)"
      ],
      "metadata": {
        "id": "Y3KGgy0o06O8",
        "execution": {
          "iopub.status.busy": "2022-03-08T01:26:43.759884Z",
          "iopub.execute_input": "2022-03-08T01:26:43.760167Z",
          "iopub.status.idle": "2022-03-08T01:26:43.775536Z",
          "shell.execute_reply.started": "2022-03-08T01:26:43.760138Z",
          "shell.execute_reply": "2022-03-08T01:26:43.774691Z"
        },
        "trusted": true
      },
      "execution_count": null,
      "outputs": []
    },
    {
      "cell_type": "markdown",
      "source": [
        "👉 From the results, it can be seen that most of ML models can reach **up to 80% accuracy** in predicting classification of drug type."
      ],
      "metadata": {
        "id": "5_JCBDAw1hJd"
      }
    },
    {
      "cell_type": "markdown",
      "source": [
        "# 9. Output 📤\n",
        "👉 The next step will make output results in csv file."
      ],
      "metadata": {
        "id": "wnWB-Hpp2C2s"
      }
    },
    {
      "cell_type": "markdown",
      "source": [
        "## 9.1 Transforming prediction in appropriate output format 🧹"
      ],
      "metadata": {
        "id": "y9rwd5I42C2s"
      }
    },
    {
      "cell_type": "code",
      "source": [
        "pred_lr = NBclassifier1.predict(X_test)\n",
        "prediction = pd.DataFrame({'Sex_F': X_test.loc[:,\"Sex_F\"],\n",
        "                           'Sex_M': X_test.loc[:,\"Sex_M\"],\n",
        "                           'BP_HIGH': X_test.loc[:,\"BP_HIGH\"],\n",
        "                           'BP_LOW': X_test.loc[:,\"BP_LOW\"],\n",
        "                           'BP_NORMAL': X_test.loc[:,\"BP_NORMAL\"],\n",
        "                           'Cholesterol_HIGH': X_test.loc[:,\"Cholesterol_HIGH\"],\n",
        "                           'Cholesterol_NORMAL': X_test.loc[:,\"Cholesterol_NORMAL\"],\n",
        "                           'Age_binned_<20s': X_test.loc[:,\"Age_binned_<20s\"],\n",
        "                           'Age_binned_20s': X_test.loc[:,\"Age_binned_20s\"],\n",
        "                           'Age_binned_30s': X_test.loc[:,\"Age_binned_30s\"],\n",
        "                           'Age_binned_40s': X_test.loc[:,\"Age_binned_40s\"],\n",
        "                           'Age_binned_50s': X_test.loc[:,\"Age_binned_50s\"],\n",
        "                           'Age_binned_60s': X_test.loc[:,\"Age_binned_60s\"],\n",
        "                           'Age_binned_>60s': X_test.loc[:,\"Age_binned_>60s\"],\n",
        "                           'Na_to_K_binned_<10': X_test.loc[:,\"Na_to_K_binned_<10\"],\n",
        "                           'Na_to_K_binned_10-20': X_test.loc[:,\"Na_to_K_binned_10-20\"],\n",
        "                           'Na_to_K_binned_20-30': X_test.loc[:,\"Na_to_K_binned_20-30\"],\n",
        "                           'Na_to_K_binned_>30': X_test.loc[:,\"Na_to_K_binned_>30\"],'DrugType': pred_lr})"
      ],
      "metadata": {
        "scrolled": true,
        "execution": {
          "iopub.status.busy": "2022-03-08T01:26:43.776708Z",
          "iopub.execute_input": "2022-03-08T01:26:43.776958Z",
          "iopub.status.idle": "2022-03-08T01:26:43.797899Z",
          "shell.execute_reply.started": "2022-03-08T01:26:43.776906Z",
          "shell.execute_reply": "2022-03-08T01:26:43.797056Z"
        },
        "trusted": true,
        "id": "MsDhuq_22C2s"
      },
      "execution_count": null,
      "outputs": []
    },
    {
      "cell_type": "code",
      "source": [
        "# Sex\n",
        "prediction['Sex_F'] = prediction['Sex_F'].replace([1, 0],['Female', 'Male'])\n",
        "\n",
        "#BP\n",
        "prediction['BP_HIGH'] = prediction['BP_HIGH'].replace([1, 0],['High',''])\n",
        "prediction['BP_LOW'] = prediction['BP_LOW'].replace([1, 0],['Low', ''])\n",
        "prediction['BP_NORMAL'] = prediction['BP_NORMAL'].replace([1, 0],['Normal', ''])\n",
        "\n",
        "prediction['BP_HIGH'] = np.where((prediction['BP_HIGH'] == ''), prediction['BP_LOW'], prediction['BP_HIGH'])\n",
        "prediction['BP_HIGH'] = np.where((prediction['BP_HIGH'] == ''), prediction['BP_NORMAL'], prediction['BP_HIGH'])\n",
        "\n",
        "#Cholestrol\n",
        "prediction['Cholesterol_HIGH'] = prediction['Cholesterol_HIGH'].replace([1, 0],['High', 'Normal'])\n",
        "\n",
        "#Age_binned\n",
        "prediction['Age_binned_<20s'] = prediction['Age_binned_<20s'].replace([1, 0],['<20s',''])\n",
        "prediction['Age_binned_20s'] = prediction['Age_binned_20s'].replace([1, 0],['20s',''])\n",
        "prediction['Age_binned_30s'] = prediction['Age_binned_30s'].replace([1, 0],['30s',''])\n",
        "prediction['Age_binned_40s'] = prediction['Age_binned_40s'].replace([1, 0],['40s',''])\n",
        "prediction['Age_binned_50s'] = prediction['Age_binned_50s'].replace([1, 0],['50s',''])\n",
        "prediction['Age_binned_60s'] = prediction['Age_binned_60s'].replace([1, 0],['60s',''])\n",
        "prediction['Age_binned_>60s'] = prediction['Age_binned_>60s'].replace([1, 0],['>60s',''])\n",
        "\n",
        "prediction['Age_binned_<20s'] = np.where((prediction['Age_binned_<20s'] == ''), prediction['Age_binned_20s'], prediction['Age_binned_<20s'])\n",
        "prediction['Age_binned_<20s'] = np.where((prediction['Age_binned_<20s'] == ''), prediction['Age_binned_30s'], prediction['Age_binned_<20s'])\n",
        "prediction['Age_binned_<20s'] = np.where((prediction['Age_binned_<20s'] == ''), prediction['Age_binned_40s'], prediction['Age_binned_<20s'])\n",
        "prediction['Age_binned_<20s'] = np.where((prediction['Age_binned_<20s'] == ''), prediction['Age_binned_50s'], prediction['Age_binned_<20s'])\n",
        "prediction['Age_binned_<20s'] = np.where((prediction['Age_binned_<20s'] == ''), prediction['Age_binned_60s'], prediction['Age_binned_<20s'])\n",
        "prediction['Age_binned_<20s'] = np.where((prediction['Age_binned_<20s'] == ''), prediction['Age_binned_>60s'], prediction['Age_binned_<20s'])\n",
        "\n",
        "#Na to K\n",
        "prediction['Na_to_K_binned_<10'] = prediction['Na_to_K_binned_<10'].replace([1, 0],['<10',''])\n",
        "prediction['Na_to_K_binned_10-20'] = prediction['Na_to_K_binned_10-20'].replace([1, 0],['10-20',''])\n",
        "prediction['Na_to_K_binned_20-30'] = prediction['Na_to_K_binned_20-30'].replace([1, 0],['20-30',''])\n",
        "prediction['Na_to_K_binned_>30'] = prediction['Na_to_K_binned_>30'].replace([1, 0],['>30s',''])\n",
        "\n",
        "prediction['Na_to_K_binned_<10'] = np.where((prediction['Na_to_K_binned_<10'] == ''), prediction['Na_to_K_binned_10-20'], prediction['Na_to_K_binned_<10'])\n",
        "prediction['Na_to_K_binned_<10'] = np.where((prediction['Na_to_K_binned_<10'] == ''), prediction['Na_to_K_binned_20-30'], prediction['Na_to_K_binned_<10'])\n",
        "prediction['Na_to_K_binned_<10'] = np.where((prediction['Na_to_K_binned_<10'] == ''), prediction['Na_to_K_binned_>30'], prediction['Na_to_K_binned_<10'])\n",
        "\n",
        "# Drop columns\n",
        "prediction = prediction.drop(['Sex_M', 'BP_LOW', 'BP_NORMAL', 'Cholesterol_NORMAL', 'Age_binned_20s', 'Age_binned_30s',\n",
        "                 'Age_binned_40s', 'Age_binned_50s', 'Age_binned_60s', 'Age_binned_>60s',\n",
        "                'Na_to_K_binned_10-20', 'Na_to_K_binned_20-30', 'Na_to_K_binned_>30'], axis = 1)"
      ],
      "metadata": {
        "execution": {
          "iopub.status.busy": "2022-03-08T01:26:43.799165Z",
          "iopub.execute_input": "2022-03-08T01:26:43.799683Z",
          "iopub.status.idle": "2022-03-08T01:26:43.846677Z",
          "shell.execute_reply.started": "2022-03-08T01:26:43.799653Z",
          "shell.execute_reply": "2022-03-08T01:26:43.845931Z"
        },
        "trusted": true,
        "id": "VwlJLV8O2C2t"
      },
      "execution_count": null,
      "outputs": []
    },
    {
      "cell_type": "code",
      "source": [
        "# Rename columns name\n",
        "new_name = {'Sex_F': 'Sex', 'BP_HIGH': 'BP', 'Cholesterol_HIGH': 'Cholesterol', 'Age_binned_<20s': 'Age_binned',\n",
        "          'Na_to_K_binned_<10': 'Na_to_K_binned'}\n",
        "prediction.rename(columns=new_name, inplace=True)"
      ],
      "metadata": {
        "execution": {
          "iopub.status.busy": "2022-03-08T01:26:43.848001Z",
          "iopub.execute_input": "2022-03-08T01:26:43.84833Z",
          "iopub.status.idle": "2022-03-08T01:26:43.854394Z",
          "shell.execute_reply.started": "2022-03-08T01:26:43.848292Z",
          "shell.execute_reply": "2022-03-08T01:26:43.853519Z"
        },
        "trusted": true,
        "id": "8QYX4pM82C2t"
      },
      "execution_count": null,
      "outputs": []
    },
    {
      "cell_type": "markdown",
      "source": [],
      "metadata": {
        "id": "U0znQMBE4Mkj"
      }
    },
    {
      "cell_type": "markdown",
      "source": [
        "## 9.2 Generating output file (CSV) 📄"
      ],
      "metadata": {
        "id": "vuBsfNQC2C2t"
      }
    },
    {
      "cell_type": "code",
      "source": [
        "prediction.to_csv('prediction.csv', index=False)\n",
        "predictioncsv = pd.read_csv('./prediction.csv')\n",
        "predictioncsv.head()"
      ],
      "metadata": {
        "execution": {
          "iopub.status.busy": "2022-03-08T01:26:43.855636Z",
          "iopub.execute_input": "2022-03-08T01:26:43.856379Z",
          "iopub.status.idle": "2022-03-08T01:26:43.879408Z",
          "shell.execute_reply.started": "2022-03-08T01:26:43.856338Z",
          "shell.execute_reply": "2022-03-08T01:26:43.878435Z"
        },
        "trusted": true,
        "id": "JKkYsUeT2C2u"
      },
      "execution_count": null,
      "outputs": []
    },
    {
      "cell_type": "markdown",
      "source": [
        "# 10. References 🔗\n",
        "📚 **Kaggle Notebook**:\n",
        "*  [Drug Classification With Different Algorithms by Görkem Günay](https://www.kaggle.com/gorkemgunay/drug-classification-with-different-algorithms)\n",
        "*  [Drug Classification - 100% Accuracy by Erin Ward](https://www.kaggle.com/eward96/drug-classification-100-accuracy)\n",
        "*  [drug prediction with acc(100 %) by Sachin Sharma](https://www.kaggle.com/sachinsharma1123/drug-prediction-with-acc-100)"
      ],
      "metadata": {
        "id": "ZJkSOWZx2C2u"
      }
    },
    {
      "cell_type": "markdown",
      "source": [
        "---\n",
        "\n",
        "**Like this notebook? You can support me by giving upvote** 😆👍🔼 <br>\n",
        "👉 *More about myself: [linktr.ee/caesarmario_](http://linktr.ee/caesarmario_)*"
      ],
      "metadata": {
        "id": "x3fbe4CXnz9e"
      }
    }
  ]
}